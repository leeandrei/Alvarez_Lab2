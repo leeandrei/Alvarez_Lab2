{
 "cells": [
  {
   "cell_type": "markdown",
   "metadata": {},
   "source": [
    "<h2>Linear Algebra (CpE210A)<b>"
   ]
  },
  {
   "cell_type": "markdown",
   "metadata": {},
   "source": [
    "<h4><b>Laboratory 2: Plotting Vectors using NumPy and MatPlotLib<b>"
   ]
  },
  {
   "cell_type": "markdown",
   "metadata": {},
   "source": [
    "<h5>Coded And Submitted by:<h5>\n",
    "<h5><i>Alvarez, Lee Andrei D.<i>\n",
    "<h5><i><b>58011<b><i>"
   ]
  },
  {
   "cell_type": "code",
   "execution_count": 1,
   "metadata": {},
   "outputs": [],
   "source": [
    "import numpy as np\n",
    "import matplotlib.pyplot as plt\n",
    "import matplotlib\n",
    "\n",
    "%matplotlib inline"
   ]
  },
  {
   "cell_type": "code",
   "execution_count": 2,
   "metadata": {},
   "outputs": [],
   "source": [
    "## START OF FUNCTION\n",
    "def track_eagle(make_figs=True):\n",
    "    long = np.random.randint(-10,10, size=3)      ## since we don't actually have eagle tracking data we will use\n",
    "    lat = np.random.randint(-10,10, size=3)       ## random integers for this activity. These two lines will produce\n",
    "                                        \n",
    "\n",
    "    dist1 = np.array([lat[0], long[0]])                                ## setup the array for each vector for the eagle's flight.\n",
    "    dist2 = np.array([lat[1], long[1]])\n",
    "    dist3 = np.array([lat[2], long[2]])\n",
    "    \n",
    "\n",
    "    dist_total = np.add(dist3,(np.add(dist1, dist2)))                  ## compute for the resultant vector for the eagle's flight.\n",
    "    disp = np.sqrt((dist_total[0]**2) + (dist_total[1]**2))            ## compute for the magnitude of the displacement\n",
    "    alpha = 10**-6\n",
    "    theta = np.arctan(dist_total[1]/(alpha + dist_total[0]))           ## compute for the angle of the displacement. Hint\n",
    "    theta = np.degrees(theta)                                          ## convert theta from rad to deg.\n",
    "    \n",
    "    ## Plotting the PH Eagle flight vectors.\n",
    "    plt.figure(figsize=(10,10))\n",
    "    plt.title('Philippine Eagle Flight Plotter')\n",
    "    plt.xlim(-30, 30)\n",
    "    plt.ylim(-30, 30)\n",
    "    plt.xlabel('Latitudinal Distance')\n",
    "    plt.ylabel('Longitudinal Distance')\n",
    "    plt.grid()\n",
    "    n = 2\n",
    "    \n",
    "    \n",
    "    ### Self-discovery code block (Refer to guide question 2 for the task)\n",
    "    \n",
    "    plt.quiver(0,0, dist1[0], dist1[1], \n",
    "               angles='xy', scale_units='xy',scale=1, color='red', \n",
    "               label='Trajectory 1: {:.2f}m.'.format(np.linalg.norm(dist1)))\n",
    "    plt.quiver(dist1[0], dist1[1], dist2[0], dist2[1], \n",
    "               angles='xy', scale_units='xy',scale=1, color='blue',\n",
    "              label='Trajectory 2: {:.2f}m.'.format(np.linalg.norm(dist2)))\n",
    "    plt.quiver(np.add(dist1[0],dist2[0]), np.add(dist1[1],dist2[1]),\n",
    "               dist3[0], dist3[1], angles='xy', scale_units='xy',scale=1, color='green',\n",
    "              label='Trajectory 3: {:.2f}m.'.format(np.linalg.norm(dist3)))\n",
    "    plt.quiver(0,0, dist_total[0], dist_total[1], \n",
    "               angles='xy', scale_units='xy',scale=1, color='orange',\n",
    "              label='Displacement: {:.2f}m. @ {:.2f}'.format(disp, theta))\n",
    "    \n",
    "    plt.legend()\n",
    "    \n",
    "    if make_figs:\n",
    "        plt.savefig(f'LinAlg-Lab2-PH Eagle-{int(disp)}@{int(theta)}.png', dpi=300)\n",
    "    \n",
    "    plt.show()\n",
    "    \n",
    "## END OF FUNCTION"
   ]
  },
  {
   "cell_type": "code",
   "execution_count": 3,
   "metadata": {},
   "outputs": [
    {
     "data": {
      "image/png": "[encoded data removed]",
      "text/plain": [
       "<Figure size 720x720 with 1 Axes>"
      ]
     },
     "metadata": {
      "needs_background": "light"
     },
     "output_type": "display_data"
    }
   ],
   "source": [
    "track_eagle(make_figs=True) ## Let 'make_figs' equal to False during debugging."
   ]
  },
  {
   "cell_type": "code",
   "execution_count": 4,
   "metadata": {},
   "outputs": [
    {
     "data": {
      "text/plain": [
       "(28, 31, 26)"
      ]
     },
     "execution_count": 4,
     "metadata": {},
     "output_type": "execute_result"
    }
   ],
   "source": [
    "def eagle_kinematics(speed, time):\n",
    "    req_shape = 4\n",
    "    velocity = np.zeros((req_shape-1,))\n",
    "    acceleration = np.zeros((req_shape-2,))\n",
    "    time_vector = np.array([time**3, time**2, time, 1])\n",
    "    if speed.shape == (req_shape,):\n",
    "        velocity = np.array([3*speed[0],2*speed[1], speed[2]])\n",
    "        acceleration = np.array([2*velocity[0],velocity[1]])\n",
    "        speed_time = np.sum(np.multiply(speed, time_vector))\n",
    "        velocity_time = np.sum(np.multiply(velocity, time_vector[1:]))\n",
    "        acceleration_time = np.sum(np.multiply(acceleration, time_vector[2:]))\n",
    "        \n",
    "    else:\n",
    "        print(f'Input displacement vector is not valid. Make sure that the vector shape is ({req_shape},)')\n",
    "    \n",
    "    return speed_time, velocity_time, acceleration_time\n",
    "\n",
    "x= np.array([2,1,3,2])\n",
    "time=2\n",
    "eagle_kinematics(x,time)"
   ]
  },
  {
   "cell_type": "code",
   "execution_count": null,
   "metadata": {},
   "outputs": [],
   "source": []
  }
 ],
 "metadata": {
  "kernelspec": {
   "display_name": "Python 3",
   "language": "python",
   "name": "python3"
  },
  "language_info": {
   "codemirror_mode": {
    "name": "ipython",
    "version": 3
   },
   "file_extension": ".py",
   "mimetype": "text/x-python",
   "name": "python",
   "nbconvert_exporter": "python",
   "pygments_lexer": "ipython3",
   "version": "3.8.3"
  }
 },
 "nbformat": 4,
 "nbformat_minor": 4
}
